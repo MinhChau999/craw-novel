{
 "cells": [
  {
   "cell_type": "code",
   "execution_count": 1,
   "metadata": {},
   "outputs": [],
   "source": [
    "# import libraries and packages for the project\n",
    "from selenium import webdriver\n",
    "from selenium.webdriver.common.keys import Keys\n",
    "from webdriver_manager.chrome import ChromeDriverManager\n",
    "from time import sleep\n",
    "from bs4 import BeautifulSoup\n"
   ]
  },
  {
   "cell_type": "markdown",
   "metadata": {},
   "source": [
    "# Step 1: Login to Linkedin"
   ]
  },
  {
   "cell_type": "code",
   "execution_count": 2,
   "metadata": {},
   "outputs": [
    {
     "name": "stderr",
     "output_type": "stream",
     "text": [
      "\n",
      "\n",
      "====== WebDriver manager ======\n",
      "Current google-chrome version is 96.0.4664\n",
      "Get LATEST chromedriver version for 96.0.4664 google-chrome\n",
      "Driver [C:\\Users\\TTC\\.wdm\\drivers\\chromedriver\\win32\\96.0.4664.45\\chromedriver.exe] found in cache\n"
     ]
    }
   ],
   "source": [
    "# Open and login LinkedIn login site\n",
    "options = webdriver.ChromeOptions()\n",
    "options.add_argument('--disable-notifications')\n",
    "options.add_argument('--incognito')\n",
    "driver = webdriver.Chrome(ChromeDriverManager().install())\n",
    "url = 'https://www.linkedin.com/login?fromSignIn=true&trk=guest_homepage-basic_nav-header-signin'\n",
    "driver.get(url)\n",
    "sleep(10)\n",
    "\n",
    "# import username and password from text file\n",
    "credential = open('login_credential.txt', 'r')\n",
    "line = credential.readlines()\n",
    "username = line[0]\n",
    "password = line[1]\n",
    "\n",
    "# key in username and password\n",
    "email_input = driver.find_element_by_id('username')\n",
    "email_input.send_keys(username)\n",
    "sleep(2)\n",
    "password_input = driver.find_element_by_name('session_password')\n",
    "password_input.send_keys(password)\n",
    "sleep(2)\n",
    "# Click login button\n",
    "# login_button = driver.find_element_by_xpath('/html/body/div/main/div[2]/div[1]/form/div[3]/button')\n",
    "# login_button.click()\n"
   ]
  },
  {
   "cell_type": "code",
   "execution_count": 3,
   "metadata": {},
   "outputs": [],
   "source": [
    "search_input = driver.find_element_by_xpath('/html/body/div[6]/header/div/div/div/div[1]/input')\n",
    "search_query = input('Enter the name of the profile you want to search: ')\n",
    "search_input.send_keys(search_query)\n",
    "sleep(3)\n",
    "search_input.send_keys(Keys.ENTER)"
   ]
  }
 ],
 "metadata": {
  "interpreter": {
   "hash": "7e9e9e9624e642abe9ab5ff39bb940cf307caf8674a0655868018ee71d031dd0"
  },
  "kernelspec": {
   "display_name": "Python 3.9.7 64-bit",
   "language": "python",
   "name": "python3"
  },
  "language_info": {
   "codemirror_mode": {
    "name": "ipython",
    "version": 3
   },
   "file_extension": ".py",
   "mimetype": "text/x-python",
   "name": "python",
   "nbconvert_exporter": "python",
   "pygments_lexer": "ipython3",
   "version": "3.8.5"
  },
  "orig_nbformat": 4
 },
 "nbformat": 4,
 "nbformat_minor": 2
}

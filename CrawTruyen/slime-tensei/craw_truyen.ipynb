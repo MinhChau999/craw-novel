{
 "cells": [
  {
   "cell_type": "code",
   "execution_count": 22,
   "metadata": {},
   "outputs": [],
   "source": [
    "# import libraries and packages for the project\n",
    "from selenium import webdriver\n",
    "from selenium.webdriver.common.keys import Keys\n",
    "from webdriver_manager.chrome import ChromeDriverManager\n",
    "from time import sleep\n",
    "from bs4 import BeautifulSoup\n",
    "import urllib.request \n",
    "from docx import Document\n",
    "from urllib.request import urlopen\n",
    "import cv2\n",
    "import numpy as np"
   ]
  },
  {
   "cell_type": "code",
   "execution_count": 23,
   "metadata": {},
   "outputs": [
    {
     "name": "stderr",
     "output_type": "stream",
     "text": [
      "\n",
      "\n",
      "====== WebDriver manager ======\n",
      "Current google-chrome version is 96.0.4664\n",
      "Get LATEST chromedriver version for 96.0.4664 google-chrome\n",
      "Driver [C:\\Users\\TTC\\.wdm\\drivers\\chromedriver\\win32\\96.0.4664.45\\chromedriver.exe] found in cache\n",
      "C:\\Users\\TTC\\AppData\\Local\\Temp/ipykernel_25464/88181232.py:5: DeprecationWarning: executable_path has been deprecated, please pass in a Service object\n",
      "  driver = webdriver.Chrome(ChromeDriverManager().install(), options=options)\n"
     ]
    }
   ],
   "source": [
    "# options of webdriver\n",
    "options = webdriver.ChromeOptions()\n",
    "options.add_argument('--disable-notifications')\n",
    "options.add_argument('--incognito')\n",
    "# open the browser\n",
    "driver = webdriver.Chrome(ChromeDriverManager().install(), options=options)\n",
    "url = 'https://novelsonline.net/tensei-shitara-slime-datta-ken-ln/volume-1/chapter-1-1'\n",
    "driver.get(url)"
   ]
  },
  {
   "cell_type": "code",
   "execution_count": null,
   "metadata": {},
   "outputs": [],
   "source": [
    "\n",
    "page_source = BeautifulSoup(driver.page_source)\n",
    "urls = page_source.find(\"select\",{\"onchange\":\"location = this.options[this.selectedIndex].value;\"}).find_all(\"option\")\n",
    "for url in urls:\n",
    "    print(url.get(\"value\"))\n",
    "    # opening the url for reading\n",
    "    try:\n",
    "        html = urllib.request.urlopen(url.get(\"value\"))\n",
    "    except:\n",
    "        print(\"error\")\n",
    "        continue\n",
    "    \n",
    "    # parsing the html file\n",
    "    htmlParse = BeautifulSoup(html, 'html.parser')\n",
    "    \n",
    "    # file name document\n",
    "    filename = url.get(\"value\").replace(\"https://novelsonline.net/tensei-shitara-slime-datta-ken-ln\",\"\").replace(\"/\",\"_\").replace(\"-\",\"_\") + '.docx'\n",
    "    document = Document()\n",
    "    # getting the value of body\n",
    "    table = htmlParse.find(\"div\", {\"id\": \"contentall\"})\n",
    "    for para in table.find_all(\"p\"):\n",
    "        # write the paragraph to the document\n",
    "        if(para.string != None):\n",
    "            document.add_paragraph(para.string)\n",
    "        # write the image to the document\n",
    "        if(para.find(\"img\") != None):\n",
    "            # getting the image url\n",
    "            req = urlopen(\"https://novelsonline.net\" + para.find(\"img\").get(\"src\"))\n",
    "            # getting the image data\n",
    "            arr = np.asarray(bytearray(req.read()), dtype=np.uint8)\n",
    "            # decode the image\n",
    "            img = cv2.imdecode(arr, -1)\n",
    "            # name the image\n",
    "            filenameimg = para.find(\"img\").get(\"src\").replace(\"/\",\"_\").replace(\"-\",\"_\").replace(\".\",\"_\") + '.jpg' #Có thể viết lại tên cho đỡ ngáo\n",
    "            # save the image\n",
    "            cv2.imwrite(filenameimg, img)\n",
    "            # add the image to the document\n",
    "            document.add_picture(filenameimg)\n",
    "    # save the document\n",
    "    document.save(filename)\n",
    "\n"
   ]
  }
 ],
 "metadata": {
  "interpreter": {
   "hash": "034ad714f90f4472e1d5d2940fe387ac5b567fec61759edd1fa2b93e59cfa992"
  },
  "kernelspec": {
   "display_name": "Python 3.8.5 64-bit ('base': conda)",
   "language": "python",
   "name": "python3"
  },
  "language_info": {
   "codemirror_mode": {
    "name": "ipython",
    "version": 3
   },
   "file_extension": ".py",
   "mimetype": "text/x-python",
   "name": "python",
   "nbconvert_exporter": "python",
   "pygments_lexer": "ipython3",
   "version": "3.9.7"
  },
  "orig_nbformat": 4
 },
 "nbformat": 4,
 "nbformat_minor": 2
}

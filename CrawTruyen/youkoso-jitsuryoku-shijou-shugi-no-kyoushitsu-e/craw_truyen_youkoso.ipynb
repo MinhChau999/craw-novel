{
 "cells": [
  {
   "cell_type": "code",
   "execution_count": 4,
   "metadata": {},
   "outputs": [],
   "source": [
    "# import libraries and packages for the project\n",
    "from selenium import webdriver\n",
    "from selenium.webdriver.common.keys import Keys\n",
    "from webdriver_manager.chrome import ChromeDriverManager\n",
    "from time import sleep\n",
    "from bs4 import BeautifulSoup\n",
    "import urllib.request \n",
    "from docx import Document"
   ]
  },
  {
   "cell_type": "code",
   "execution_count": 14,
   "metadata": {},
   "outputs": [
    {
     "name": "stderr",
     "output_type": "stream",
     "text": [
      "\n",
      "\n",
      "====== WebDriver manager ======\n",
      "Current google-chrome version is 96.0.4664\n",
      "Get LATEST chromedriver version for 96.0.4664 google-chrome\n",
      "Driver [C:\\Users\\TTC\\.wdm\\drivers\\chromedriver\\win32\\96.0.4664.45\\chromedriver.exe] found in cache\n",
      "C:\\Users\\TTC\\AppData\\Local\\Temp/ipykernel_11092/164585795.py:5: DeprecationWarning: executable_path has been deprecated, please pass in a Service object\n",
      "  driver = webdriver.Chrome(ChromeDriverManager().install(), options=options)\n"
     ]
    }
   ],
   "source": [
    "# Open and login LinkedIn login site\n",
    "options = webdriver.ChromeOptions()\n",
    "options.add_argument('--disable-notifications')\n",
    "options.add_argument('--incognito')\n",
    "driver = webdriver.Chrome(ChromeDriverManager().install(), options=options)\n",
    "url = 'https://novelsonline.net/youkoso-jitsuryoku-shijou-shugi-no-kyoushitsu-e/volume-1/chapter-pr'\n",
    "driver.get(url)\n",
    "sleep(10)"
   ]
  },
  {
   "cell_type": "code",
   "execution_count": 15,
   "metadata": {},
   "outputs": [
    {
     "name": "stdout",
     "output_type": "stream",
     "text": [
      "https://novelsonline.net/youkoso-jitsuryoku-shijou-shugi-no-kyoushitsu-e/volume-1/chapter-pr\n",
      "https://novelsonline.net/youkoso-jitsuryoku-shijou-shugi-no-kyoushitsu-e/volume-1/chapter-1-1\n",
      "https://novelsonline.net/youkoso-jitsuryoku-shijou-shugi-no-kyoushitsu-e/volume-1/chapter-1-2\n",
      "https://novelsonline.net/youkoso-jitsuryoku-shijou-shugi-no-kyoushitsu-e/volume-1/chapter-1-3\n",
      "https://novelsonline.net/youkoso-jitsuryoku-shijou-shugi-no-kyoushitsu-e/volume-1/chapter-1-4\n",
      "https://novelsonline.net/youkoso-jitsuryoku-shijou-shugi-no-kyoushitsu-e/volume-1/chapter-2\n",
      "https://novelsonline.net/youkoso-jitsuryoku-shijou-shugi-no-kyoushitsu-e/volume-1/chapter-2-1\n",
      "https://novelsonline.net/youkoso-jitsuryoku-shijou-shugi-no-kyoushitsu-e/volume-1/chapter-2-2\n",
      "https://novelsonline.net/youkoso-jitsuryoku-shijou-shugi-no-kyoushitsu-e/volume-1/chapter-3\n",
      "https://novelsonline.net/youkoso-jitsuryoku-shijou-shugi-no-kyoushitsu-e/volume-1/chapter-3-1\n",
      "https://novelsonline.net/youkoso-jitsuryoku-shijou-shugi-no-kyoushitsu-e/volume-1/chapter-4-1\n",
      "https://novelsonline.net/youkoso-jitsuryoku-shijou-shugi-no-kyoushitsu-e/volume-1/chapter-4-2\n",
      "https://novelsonline.net/youkoso-jitsuryoku-shijou-shugi-no-kyoushitsu-e/volume-1/chapter-5\n",
      "https://novelsonline.net/youkoso-jitsuryoku-shijou-shugi-no-kyoushitsu-e/volume-1/chapter-5-1\n",
      "https://novelsonline.net/youkoso-jitsuryoku-shijou-shugi-no-kyoushitsu-e/volume-1/chapter-5-2\n",
      "https://novelsonline.net/youkoso-jitsuryoku-shijou-shugi-no-kyoushitsu-e/volume-1/chapter-5-3\n",
      "https://novelsonline.net/youkoso-jitsuryoku-shijou-shugi-no-kyoushitsu-e/volume-1/chapter-6-1\n",
      "https://novelsonline.net/youkoso-jitsuryoku-shijou-shugi-no-kyoushitsu-e/volume-1/chapter-6-2\n",
      "https://novelsonline.net/youkoso-jitsuryoku-shijou-shugi-no-kyoushitsu-e/volume-1/chapter-7-1\n",
      "https://novelsonline.net/youkoso-jitsuryoku-shijou-shugi-no-kyoushitsu-e/volume-1/chapter-7-2\n",
      "https://novelsonline.net/youkoso-jitsuryoku-shijou-shugi-no-kyoushitsu-e/volume-1/chapter-7-3\n",
      "https://novelsonline.net/youkoso-jitsuryoku-shijou-shugi-no-kyoushitsu-e/volume-1/chapter-7-4\n",
      "https://novelsonline.net/youkoso-jitsuryoku-shijou-shugi-no-kyoushitsu-e/volume-1/chapter-7-5\n",
      "https://novelsonline.net/youkoso-jitsuryoku-shijou-shugi-no-kyoushitsu-e/volume-1/chapter-7-6\n",
      "https://novelsonline.net/youkoso-jitsuryoku-shijou-shugi-no-kyoushitsu-e/volume-1/chapter-7-7\n",
      "https://novelsonline.net/youkoso-jitsuryoku-shijou-shugi-no-kyoushitsu-e/volume-1/chapter-7-8\n",
      "https://novelsonline.net/youkoso-jitsuryoku-shijou-shugi-no-kyoushitsu-e/volume-1/chapter-8-1\n",
      "https://novelsonline.net/youkoso-jitsuryoku-shijou-shugi-no-kyoushitsu-e/volume-1/chapter-8-2\n",
      "https://novelsonline.net/youkoso-jitsuryoku-shijou-shugi-no-kyoushitsu-e/volume-1/chapter-8-3\n",
      "https://novelsonline.net/youkoso-jitsuryoku-shijou-shugi-no-kyoushitsu-e/volume-1/chapter-8-4\n",
      "https://novelsonline.net/youkoso-jitsuryoku-shijou-shugi-no-kyoushitsu-e/volume-1/chapter-9-1\n",
      "https://novelsonline.net/youkoso-jitsuryoku-shijou-shugi-no-kyoushitsu-e/volume-1/chapter-9-2\n",
      "https://novelsonline.net/youkoso-jitsuryoku-shijou-shugi-no-kyoushitsu-e/volume-1/chapter-10\n",
      "https://novelsonline.net/youkoso-jitsuryoku-shijou-shugi-no-kyoushitsu-e/volume-1/chapter-1-1-int\n",
      "\n",
      "error\n"
     ]
    }
   ],
   "source": [
    "\n",
    "page_source = BeautifulSoup(driver.page_source)\n",
    "urls = page_source.find(\"select\",{\"onchange\":\"location = this.options[this.selectedIndex].value;\"}).find_all(\"option\")\n",
    "for url in urls:\n",
    "    print(url.get(\"value\"))\n",
    "    # opening the url for reading\n",
    "    try:\n",
    "        html = urllib.request.urlopen(url.get(\"value\"))\n",
    "    except:\n",
    "        print(\"error\")\n",
    "        continue\n",
    "    \n",
    "    # parsing the html file\n",
    "    htmlParse = BeautifulSoup(html, 'html.parser')\n",
    "    \n",
    "    # getting all the paragraphs\n",
    "    filename = url.get(\"value\").replace(\"https://novelsonline.net/youkoso-jitsuryoku-shijou-shugi-no-kyoushitsu-e/\",\"\").replace(\"/\",\"_\").replace(\"-\",\"_\") + '.docx'\n",
    "    document = Document()\n",
    "    table = htmlParse.find(\"div\", {\"id\": \"contentall\"})\n",
    "    for para in table.find_all(\"p\"):\n",
    "        if(para.string != None):\n",
    "            document.add_paragraph(para.string)\n",
    "    #     document.add_paragraph(para.text)\n",
    "\n",
    "    document.save(filename)\n",
    "\n"
   ]
  }
 ],
 "metadata": {
  "interpreter": {
   "hash": "034ad714f90f4472e1d5d2940fe387ac5b567fec61759edd1fa2b93e59cfa992"
  },
  "kernelspec": {
   "display_name": "Python 3.8.5 64-bit ('base': conda)",
   "language": "python",
   "name": "python3"
  },
  "language_info": {
   "codemirror_mode": {
    "name": "ipython",
    "version": 3
   },
   "file_extension": ".py",
   "mimetype": "text/x-python",
   "name": "python",
   "nbconvert_exporter": "python",
   "pygments_lexer": "ipython3",
   "version": "3.9.7"
  },
  "orig_nbformat": 4
 },
 "nbformat": 4,
 "nbformat_minor": 2
}
